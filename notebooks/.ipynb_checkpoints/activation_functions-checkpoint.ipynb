{
 "cells": [
  {
   "cell_type": "code",
   "execution_count": 4,
   "id": "1416d3fe-af44-4b35-80f1-ae605d155d81",
   "metadata": {},
   "outputs": [],
   "source": [
    "import numpy as np\n",
    "import matplotlib.pyplot as plt"
   ]
  },
  {
   "cell_type": "markdown",
   "id": "a64f9d01-197e-4d62-94a7-722575830b27",
   "metadata": {},
   "source": [
    "## Activation functions"
   ]
  },
  {
   "cell_type": "code",
   "execution_count": 59,
   "id": "7b61e9bd-96f5-47ba-ba83-30436c421db8",
   "metadata": {},
   "outputs": [],
   "source": [
    "## Define different activation functions.\n",
    "\n",
    "# ReLU.\n",
    "relu = lambda x: np.maximum(0, x)\n",
    "\n",
    "# Sigmoid.\n",
    "sigm = lambda x: 1/(1+np.exp(-x))\n",
    "\n",
    "# Step function.\n",
    "step = lambda x: np.where(x<0, 0, 1)\n",
    "\n",
    "# Hyperbolic tangent.\n",
    "hytan = lambda x: (np.exp(x) - np.exp(-x)) / (np.exp(x) + np.exp(-x))"
   ]
  },
  {
   "cell_type": "code",
   "execution_count": 104,
   "id": "a37a1268-66a0-459f-8bca-de0ed25b75d9",
   "metadata": {},
   "outputs": [
    {
     "data": {
      "image/png": "[encoded data removed]",
      "text/plain": [
       "<Figure size 432x288 with 1 Axes>"
      ]
     },
     "metadata": {
      "needs_background": "light"
     },
     "output_type": "display_data"
    },
    {
     "data": {
      "text/plain": [
       "<Figure size 432x288 with 0 Axes>"
      ]
     },
     "metadata": {},
     "output_type": "display_data"
    }
   ],
   "source": [
    "x = np.linspace(-3,3,1000)\n",
    "cols = [\"darksalmon\", \"gold\", \"olivedrab\", \"darkcyan\"]\n",
    "\n",
    "fig, ax = plt.subplots(1)\n",
    "\n",
    "ax.plot(x, step(x), color=cols[0])\n",
    "\n",
    "#ax.plot(x, relu(x), label=\"ReLU\", color=cols[1])\n",
    "\n",
    "#ax.plot(x, hytan(x), label=\"Hyperbolic Tangent\", color=cols[2])\n",
    "\n",
    "#ax.plot(x, step(x), label=\"Step Function\", color=cols[3])\n",
    "\n",
    "\n",
    "plt.ylim([-1,1.5])\n",
    "\n",
    "#plt.grid(True)\n",
    "ax.xaxis.set_ticklabels([])\n",
    "ax.yaxis.set_ticklabels([])\n",
    "\n",
    "ax.spines['left'].set_position('center')\n",
    "ax.spines['bottom'].set_position('zero')\n",
    "ax.spines['right'].set_color('none')\n",
    "ax.spines['top'].set_color('none')\n",
    "\n",
    "#plt.legend()\n",
    "plt.tight_layout()\n",
    "plt.show()\n",
    "plt.savefig(\"relu.pdf\")"
   ]
  },
  {
   "cell_type": "code",
   "execution_count": 77,
   "id": "37771084-1548-4296-8477-0b987e7d785d",
   "metadata": {},
   "outputs": [
    {
     "name": "stdout",
     "output_type": "stream",
     "text": [
      "Object `ax.xlim` not found.\n"
     ]
    }
   ],
   "source": []
  }
 ],
 "metadata": {
  "kernelspec": {
   "display_name": "Python 3",
   "language": "python",
   "name": "python3"
  },
  "language_info": {
   "codemirror_mode": {
    "name": "ipython",
    "version": 3
   },
   "file_extension": ".py",
   "mimetype": "text/x-python",
   "name": "python",
   "nbconvert_exporter": "python",
   "pygments_lexer": "ipython3",
   "version": "3.8.2"
  }
 },
 "nbformat": 4,
 "nbformat_minor": 5
}
