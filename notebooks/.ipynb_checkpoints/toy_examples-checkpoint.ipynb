{
 "cells": [
  {
   "cell_type": "code",
   "execution_count": 5,
   "id": "3986647e-8ee1-4887-9148-d3c280ef6119",
   "metadata": {},
   "outputs": [],
   "source": [
    "import numpy as np\n",
    "import matplotlib.pyplot as plt"
   ]
  },
  {
   "cell_type": "markdown",
   "id": "ab2b1b42-ac44-40cf-b5fd-c13992b5981c",
   "metadata": {},
   "source": [
    "# Toy examples\n",
    "In this notebook, simple simulations are used to illustrate the main theorems presented in \"*On the Mathematical Foundations of Learning*\"."
   ]
  },
  {
   "cell_type": "markdown",
   "id": "20f637d6-d98c-4f28-ac10-65ea206a680b",
   "metadata": {},
   "source": [
    "## Example 1: Polynomials approximations, to illuminate Theorem A\n",
    "This example is related to example 1 in the article.\n",
    "In this example we want to approximate a fourth order polynomial with a polynomial from the subspace of polynomials of 2nd degree or lower.\n",
    "\n",
    "Approach:\n",
    "1. Setup a scenario in which the RHS of Theorem A can be calculated. \n",
    "2. Vary the different parameters: $\\sigma$, m, epsilon and M.a\n",
    "\n",
    "**Questions:**\n",
    "- How can I guarantee $\\vert f(x) - y\\vert \\leq M$ almost everywhere?\n",
    "- "
   ]
  },
  {
   "cell_type": "code",
   "execution_count": null,
   "id": "af53ba8f-6a96-4367-8267-4da99b36510c",
   "metadata": {},
   "outputs": [],
   "source": []
  },
  {
   "cell_type": "code",
   "execution_count": 14,
   "id": "5b2c9004-10e6-4919-a7e8-4dcff675641c",
   "metadata": {},
   "outputs": [
    {
     "data": {
      "text/plain": [
       "(50,)"
      ]
     },
     "execution_count": 14,
     "metadata": {},
     "output_type": "execute_result"
    }
   ],
   "source": [
    "x.shape"
   ]
  },
  {
   "cell_type": "code",
   "execution_count": 19,
   "id": "95420cb6-8ec5-4e8b-a418-20a2b61a9d30",
   "metadata": {},
   "outputs": [
    {
     "data": {
      "image/png": "[encoded data removed]",
      "text/plain": [
       "<Figure size 432x288 with 1 Axes>"
      ]
     },
     "metadata": {
      "needs_background": "light"
     },
     "output_type": "display_data"
    }
   ],
   "source": [
    "# Define true function.\n",
    "f = lambda x: -x**4 + 2*x**3 + 3*x**2 - 4*x -1\n",
    "\n",
    "# Generate true data.\n",
    "x = np.arange(-2,3,0.1)\n",
    "y = f(x)\n",
    "\n",
    "# Create noisy data.\n",
    "noise_scale = 1\n",
    "noise = np.random.normal(scale=noise_scale, size=len(x))\n",
    "y_noisy = y + noise\n",
    "\n",
    "plt.scatter(x, y, color='darksalmon', label='True y')\n",
    "plt.scatter(x, y_noisy, color='darkslategrey', label='Noisy y')\n",
    "\n",
    "plt.legend()\n",
    "plt.tight_layout()\n",
    "plt.show()"
   ]
  },
  {
   "cell_type": "code",
   "execution_count": 11,
   "id": "c46394a0-3ab7-4343-9e85-6b935b8c37b3",
   "metadata": {},
   "outputs": [
    {
     "data": {
      "text/plain": [
       "\u001b[0;31mDocstring:\u001b[0m\n",
       "normal(loc=0.0, scale=1.0, size=None)\n",
       "\n",
       "Draw random samples from a normal (Gaussian) distribution.\n",
       "\n",
       "The probability density function of the normal distribution, first\n",
       "derived by De Moivre and 200 years later by both Gauss and Laplace\n",
       "independently [2]_, is often called the bell curve because of\n",
       "its characteristic shape (see the example below).\n",
       "\n",
       "The normal distributions occurs often in nature.  For example, it\n",
       "describes the commonly occurring distribution of samples influenced\n",
       "by a large number of tiny, random disturbances, each with its own\n",
       "unique distribution [2]_.\n",
       "\n",
       ".. note::\n",
       "    New code should use the ``normal`` method of a ``default_rng()``\n",
       "    instance instead; please see the :ref:`random-quick-start`.\n",
       "\n",
       "Parameters\n",
       "----------\n",
       "loc : float or array_like of floats\n",
       "    Mean (\"centre\") of the distribution.\n",
       "scale : float or array_like of floats\n",
       "    Standard deviation (spread or \"width\") of the distribution. Must be\n",
       "    non-negative.\n",
       "size : int or tuple of ints, optional\n",
       "    Output shape.  If the given shape is, e.g., ``(m, n, k)``, then\n",
       "    ``m * n * k`` samples are drawn.  If size is ``None`` (default),\n",
       "    a single value is returned if ``loc`` and ``scale`` are both scalars.\n",
       "    Otherwise, ``np.broadcast(loc, scale).size`` samples are drawn.\n",
       "\n",
       "Returns\n",
       "-------\n",
       "out : ndarray or scalar\n",
       "    Drawn samples from the parameterized normal distribution.\n",
       "\n",
       "See Also\n",
       "--------\n",
       "scipy.stats.norm : probability density function, distribution or\n",
       "    cumulative density function, etc.\n",
       "Generator.normal: which should be used for new code.\n",
       "\n",
       "Notes\n",
       "-----\n",
       "The probability density for the Gaussian distribution is\n",
       "\n",
       ".. math:: p(x) = \\frac{1}{\\sqrt{ 2 \\pi \\sigma^2 }}\n",
       "                 e^{ - \\frac{ (x - \\mu)^2 } {2 \\sigma^2} },\n",
       "\n",
       "where :math:`\\mu` is the mean and :math:`\\sigma` the standard\n",
       "deviation. The square of the standard deviation, :math:`\\sigma^2`,\n",
       "is called the variance.\n",
       "\n",
       "The function has its peak at the mean, and its \"spread\" increases with\n",
       "the standard deviation (the function reaches 0.607 times its maximum at\n",
       ":math:`x + \\sigma` and :math:`x - \\sigma` [2]_).  This implies that\n",
       "normal is more likely to return samples lying close to the mean, rather\n",
       "than those far away.\n",
       "\n",
       "References\n",
       "----------\n",
       ".. [1] Wikipedia, \"Normal distribution\",\n",
       "       https://en.wikipedia.org/wiki/Normal_distribution\n",
       ".. [2] P. R. Peebles Jr., \"Central Limit Theorem\" in \"Probability,\n",
       "       Random Variables and Random Signal Principles\", 4th ed., 2001,\n",
       "       pp. 51, 51, 125.\n",
       "\n",
       "Examples\n",
       "--------\n",
       "Draw samples from the distribution:\n",
       "\n",
       ">>> mu, sigma = 0, 0.1 # mean and standard deviation\n",
       ">>> s = np.random.normal(mu, sigma, 1000)\n",
       "\n",
       "Verify the mean and the variance:\n",
       "\n",
       ">>> abs(mu - np.mean(s))\n",
       "0.0  # may vary\n",
       "\n",
       ">>> abs(sigma - np.std(s, ddof=1))\n",
       "0.1  # may vary\n",
       "\n",
       "Display the histogram of the samples, along with\n",
       "the probability density function:\n",
       "\n",
       ">>> import matplotlib.pyplot as plt\n",
       ">>> count, bins, ignored = plt.hist(s, 30, density=True)\n",
       ">>> plt.plot(bins, 1/(sigma * np.sqrt(2 * np.pi)) *\n",
       "...                np.exp( - (bins - mu)**2 / (2 * sigma**2) ),\n",
       "...          linewidth=2, color='r')\n",
       ">>> plt.show()\n",
       "\n",
       "Two-by-four array of samples from N(3, 6.25):\n",
       "\n",
       ">>> np.random.normal(3, 2.5, size=(2, 4))\n",
       "array([[-4.49401501,  4.00950034, -1.81814867,  7.29718677],   # random\n",
       "       [ 0.39924804,  4.68456316,  4.99394529,  4.84057254]])  # random\n",
       "\u001b[0;31mType:\u001b[0m      builtin_function_or_method\n"
      ]
     },
     "metadata": {},
     "output_type": "display_data"
    }
   ],
   "source": [
    "?np.random.normal"
   ]
  },
  {
   "cell_type": "code",
   "execution_count": null,
   "id": "12eced3c-3c02-4419-a15b-0b61568b0556",
   "metadata": {},
   "outputs": [],
   "source": []
  },
  {
   "cell_type": "code",
   "execution_count": null,
   "id": "b82d5837-9685-490d-a76e-28eb1645b40f",
   "metadata": {},
   "outputs": [],
   "source": []
  },
  {
   "cell_type": "markdown",
   "id": "68d6f90c-bab7-4031-b7c0-146779b49f88",
   "metadata": {},
   "source": [
    "## Example 2: Choosing machine learning models as the approximaters\n",
    "???"
   ]
  },
  {
   "cell_type": "code",
   "execution_count": null,
   "id": "0b617a9a-2185-4f17-86e0-e76c6fc07970",
   "metadata": {},
   "outputs": [],
   "source": []
  }
 ],
 "metadata": {
  "kernelspec": {
   "display_name": "Python 3",
   "language": "python",
   "name": "python3"
  },
  "language_info": {
   "codemirror_mode": {
    "name": "ipython",
    "version": 3
   },
   "file_extension": ".py",
   "mimetype": "text/x-python",
   "name": "python",
   "nbconvert_exporter": "python",
   "pygments_lexer": "ipython3",
   "version": "3.8.2"
  }
 },
 "nbformat": 4,
 "nbformat_minor": 5
}
