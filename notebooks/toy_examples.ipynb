{
 "cells": [
  {
   "cell_type": "code",
   "execution_count": 1,
   "id": "3986647e-8ee1-4887-9148-d3c280ef6119",
   "metadata": {},
   "outputs": [],
   "source": [
    "import numpy as np\n",
    "import matplotlib.pyplot as plt"
   ]
  },
  {
   "cell_type": "markdown",
   "id": "ab2b1b42-ac44-40cf-b5fd-c13992b5981c",
   "metadata": {},
   "source": [
    "# Toy examples\n",
    "In this notebook, simple simulations are used to illustrate the main theorems presented in \"*On the Mathematical Foundations of Learning*\"."
   ]
  },
  {
   "cell_type": "markdown",
   "id": "20f637d6-d98c-4f28-ac10-65ea206a680b",
   "metadata": {},
   "source": [
    "## Example 1: Polynomials approximations, to illuminate Theorem A\n",
    "This example is related to example 1 in the article.\n",
    "In this example, a function $f$ (a fourth order polynomial) is used to generate some data $f(x)$. \n",
    "To create the $y$ values, uniform noise is added to each $f(x)$. This way it becomes easy to use Theorem 2.1, since $M$ will be $\\frac{a+b}{2}$ if the uniform distribution is $\\mathcal{U}(a,b)$.\n",
    "\n",
    "Below, the added noise comes from a uniform distribution $\\mathcal{U}(-1,1)$. Thus we see that $\\mathbb{E}[f_Y] = 0$, implying\n",
    "$$\n",
    "\\sigma_2(f_Y) = \n",
    "$$\n",
    "\n",
    "Approach:\n",
    "1. Setup a scenario in which the RHS of Theorem A can be calculated. \n",
    "2. Vary the different parameters: $\\sigma$, m, epsilon and M.a"
   ]
  },
  {
   "cell_type": "code",
   "execution_count": 3,
   "id": "95420cb6-8ec5-4e8b-a418-20a2b61a9d30",
   "metadata": {},
   "outputs": [
    {
     "data": {
      "image/png": "[encoded data removed]",
      "text/plain": [
       "<Figure size 432x288 with 1 Axes>"
      ]
     },
     "metadata": {
      "needs_background": "light"
     },
     "output_type": "display_data"
    }
   ],
   "source": [
    "# Define true function.\n",
    "f = lambda x: -x**4 + 2*x**3 + 3*x**2 - 4*x -1\n",
    "\n",
    "# Generate true data.\n",
    "x = np.arange(-2,3,0.1)\n",
    "y = f(x)\n",
    "\n",
    "# Create noisy data.\n",
    "noise_scale = 1\n",
    "noise = np.random.uniform(low=-1, high=1, size=len(x))\n",
    "y_noisy = y + noise\n",
    "\n",
    "plt.scatter(x, y, color='darksalmon', label='True y')\n",
    "plt.scatter(x, y_noisy, color='darkslategrey', label='Noisy y')\n",
    "\n",
    "plt.legend()\n",
    "plt.tight_layout()\n",
    "plt.show()"
   ]
  },
  {
   "cell_type": "code",
   "execution_count": null,
   "id": "12eced3c-3c02-4419-a15b-0b61568b0556",
   "metadata": {},
   "outputs": [],
   "source": []
  },
  {
   "cell_type": "code",
   "execution_count": null,
   "id": "b82d5837-9685-490d-a76e-28eb1645b40f",
   "metadata": {},
   "outputs": [],
   "source": []
  },
  {
   "cell_type": "markdown",
   "id": "68d6f90c-bab7-4031-b7c0-146779b49f88",
   "metadata": {},
   "source": [
    "## Example 2: Choosing machine learning models as the approximaters\n",
    "???"
   ]
  },
  {
   "cell_type": "code",
   "execution_count": null,
   "id": "0b617a9a-2185-4f17-86e0-e76c6fc07970",
   "metadata": {},
   "outputs": [],
   "source": []
  }
 ],
 "metadata": {
  "kernelspec": {
   "display_name": "Python 3",
   "language": "python",
   "name": "python3"
  },
  "language_info": {
   "codemirror_mode": {
    "name": "ipython",
    "version": 3
   },
   "file_extension": ".py",
   "mimetype": "text/x-python",
   "name": "python",
   "nbconvert_exporter": "python",
   "pygments_lexer": "ipython3",
   "version": "3.8.2"
  }
 },
 "nbformat": 4,
 "nbformat_minor": 5
}
